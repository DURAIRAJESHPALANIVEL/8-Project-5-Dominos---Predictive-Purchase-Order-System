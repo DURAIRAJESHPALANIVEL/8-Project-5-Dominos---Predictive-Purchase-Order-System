{
 "cells": [
  {
   "cell_type": "code",
   "execution_count": 105,
   "metadata": {
    "id": "Ogyp8vs92I3u"
   },
   "outputs": [],
   "source": [
    "import pandas as pd\n",
    "import numpy as np\n",
    "from statsmodels.tsa.arima.model import ARIMA\n",
    "from statsmodels.tsa.statespace.sarimax import SARIMAX\n",
    "from sklearn.preprocessing import LabelEncoder\n",
    "import matplotlib.pyplot as plt\n",
    "import seaborn as sns\n",
    "import warnings\n",
    "warnings.filterwarnings('ignore')"
   ]
  },
  {
   "cell_type": "code",
   "execution_count": 107,
   "metadata": {
    "id": "TG_GKYpFQnfF"
   },
   "outputs": [],
   "source": [
    "# ignore warnings\n",
    "import warnings\n",
    "warnings.filterwarnings('ignore')"
   ]
  },
  {
   "cell_type": "code",
   "execution_count": 109,
   "metadata": {
    "id": "jn8JLQsf3XRj"
   },
   "outputs": [],
   "source": [
    "pizza_df = pd.read_csv(r\"D:\\Project\\DOMINOS_PROJECT\\DATA_SETS\\Pizza_Sale - pizza_sales.csv\")\n",
    "ingred_df = pd.read_csv(r\"D:\\Project\\DOMINOS_PROJECT\\DATA_SETS\\Pizza_ingredients - Pizza_ingredients.csv\")"
   ]
  },
  {
   "cell_type": "code",
   "execution_count": 111,
   "metadata": {},
   "outputs": [
    {
     "data": {
      "text/plain": [
       "pizza_id              0\n",
       "order_id              0\n",
       "pizza_name_id        16\n",
       "quantity              0\n",
       "order_date            0\n",
       "order_time            0\n",
       "unit_price            0\n",
       "total_price           7\n",
       "pizza_size            0\n",
       "pizza_category       23\n",
       "pizza_ingredients    13\n",
       "pizza_name            7\n",
       "dtype: int64"
      ]
     },
     "execution_count": 111,
     "metadata": {},
     "output_type": "execute_result"
    }
   ],
   "source": [
    "pizza_df.isna().sum()"
   ]
  },
  {
   "cell_type": "code",
   "execution_count": 113,
   "metadata": {
    "id": "fIxRMuDC3baZ"
   },
   "outputs": [],
   "source": [
    "pizza_df.dropna(inplace=True)"
   ]
  },
  {
   "cell_type": "code",
   "execution_count": 115,
   "metadata": {},
   "outputs": [
    {
     "data": {
      "text/html": [
       "<div>\n",
       "<style scoped>\n",
       "    .dataframe tbody tr th:only-of-type {\n",
       "        vertical-align: middle;\n",
       "    }\n",
       "\n",
       "    .dataframe tbody tr th {\n",
       "        vertical-align: top;\n",
       "    }\n",
       "\n",
       "    .dataframe thead th {\n",
       "        text-align: right;\n",
       "    }\n",
       "</style>\n",
       "<table border=\"1\" class=\"dataframe\">\n",
       "  <thead>\n",
       "    <tr style=\"text-align: right;\">\n",
       "      <th></th>\n",
       "      <th>pizza_id</th>\n",
       "      <th>order_id</th>\n",
       "      <th>pizza_name_id</th>\n",
       "      <th>quantity</th>\n",
       "      <th>order_date</th>\n",
       "      <th>order_time</th>\n",
       "      <th>unit_price</th>\n",
       "      <th>total_price</th>\n",
       "      <th>pizza_size</th>\n",
       "      <th>pizza_category</th>\n",
       "      <th>pizza_ingredients</th>\n",
       "      <th>pizza_name</th>\n",
       "    </tr>\n",
       "  </thead>\n",
       "  <tbody>\n",
       "    <tr>\n",
       "      <th>0</th>\n",
       "      <td>1</td>\n",
       "      <td>1</td>\n",
       "      <td>hawaiian_m</td>\n",
       "      <td>1</td>\n",
       "      <td>1/1/2015</td>\n",
       "      <td>11:38:36</td>\n",
       "      <td>13.25</td>\n",
       "      <td>13.25</td>\n",
       "      <td>M</td>\n",
       "      <td>Classic</td>\n",
       "      <td>Sliced Ham, Pineapple, Mozzarella Cheese</td>\n",
       "      <td>The Hawaiian Pizza</td>\n",
       "    </tr>\n",
       "    <tr>\n",
       "      <th>1</th>\n",
       "      <td>2</td>\n",
       "      <td>2</td>\n",
       "      <td>classic_dlx_m</td>\n",
       "      <td>1</td>\n",
       "      <td>1/1/2015</td>\n",
       "      <td>11:57:40</td>\n",
       "      <td>16.00</td>\n",
       "      <td>16.00</td>\n",
       "      <td>M</td>\n",
       "      <td>Classic</td>\n",
       "      <td>Pepperoni, Mushrooms, Red Onions, Red Peppers,...</td>\n",
       "      <td>The Classic Deluxe Pizza</td>\n",
       "    </tr>\n",
       "    <tr>\n",
       "      <th>2</th>\n",
       "      <td>3</td>\n",
       "      <td>2</td>\n",
       "      <td>five_cheese_l</td>\n",
       "      <td>1</td>\n",
       "      <td>1/1/2015</td>\n",
       "      <td>11:57:40</td>\n",
       "      <td>18.50</td>\n",
       "      <td>18.50</td>\n",
       "      <td>L</td>\n",
       "      <td>Veggie</td>\n",
       "      <td>Mozzarella Cheese, Provolone Cheese, Smoked Go...</td>\n",
       "      <td>The Five Cheese Pizza</td>\n",
       "    </tr>\n",
       "    <tr>\n",
       "      <th>3</th>\n",
       "      <td>4</td>\n",
       "      <td>2</td>\n",
       "      <td>ital_supr_l</td>\n",
       "      <td>1</td>\n",
       "      <td>1/1/2015</td>\n",
       "      <td>11:57:40</td>\n",
       "      <td>20.75</td>\n",
       "      <td>20.75</td>\n",
       "      <td>L</td>\n",
       "      <td>Supreme</td>\n",
       "      <td>Calabrese Salami, Capocollo, Tomatoes, Red Oni...</td>\n",
       "      <td>The Italian Supreme Pizza</td>\n",
       "    </tr>\n",
       "    <tr>\n",
       "      <th>4</th>\n",
       "      <td>5</td>\n",
       "      <td>2</td>\n",
       "      <td>mexicana_m</td>\n",
       "      <td>1</td>\n",
       "      <td>1/1/2015</td>\n",
       "      <td>11:57:40</td>\n",
       "      <td>16.00</td>\n",
       "      <td>16.00</td>\n",
       "      <td>M</td>\n",
       "      <td>Veggie</td>\n",
       "      <td>Tomatoes, Red Peppers, Jalapeno Peppers, Red O...</td>\n",
       "      <td>The Mexicana Pizza</td>\n",
       "    </tr>\n",
       "  </tbody>\n",
       "</table>\n",
       "</div>"
      ],
      "text/plain": [
       "   pizza_id  order_id  pizza_name_id  quantity order_date order_time  \\\n",
       "0         1         1     hawaiian_m         1   1/1/2015   11:38:36   \n",
       "1         2         2  classic_dlx_m         1   1/1/2015   11:57:40   \n",
       "2         3         2  five_cheese_l         1   1/1/2015   11:57:40   \n",
       "3         4         2    ital_supr_l         1   1/1/2015   11:57:40   \n",
       "4         5         2     mexicana_m         1   1/1/2015   11:57:40   \n",
       "\n",
       "   unit_price  total_price pizza_size pizza_category  \\\n",
       "0       13.25        13.25          M        Classic   \n",
       "1       16.00        16.00          M        Classic   \n",
       "2       18.50        18.50          L         Veggie   \n",
       "3       20.75        20.75          L        Supreme   \n",
       "4       16.00        16.00          M         Veggie   \n",
       "\n",
       "                                   pizza_ingredients  \\\n",
       "0           Sliced Ham, Pineapple, Mozzarella Cheese   \n",
       "1  Pepperoni, Mushrooms, Red Onions, Red Peppers,...   \n",
       "2  Mozzarella Cheese, Provolone Cheese, Smoked Go...   \n",
       "3  Calabrese Salami, Capocollo, Tomatoes, Red Oni...   \n",
       "4  Tomatoes, Red Peppers, Jalapeno Peppers, Red O...   \n",
       "\n",
       "                  pizza_name  \n",
       "0         The Hawaiian Pizza  \n",
       "1   The Classic Deluxe Pizza  \n",
       "2      The Five Cheese Pizza  \n",
       "3  The Italian Supreme Pizza  \n",
       "4         The Mexicana Pizza  "
      ]
     },
     "execution_count": 115,
     "metadata": {},
     "output_type": "execute_result"
    }
   ],
   "source": [
    "pizza_df.head()"
   ]
  },
  {
   "cell_type": "code",
   "execution_count": 117,
   "metadata": {},
   "outputs": [
    {
     "name": "stdout",
     "output_type": "stream",
     "text": [
      "<class 'pandas.core.frame.DataFrame'>\n",
      "Index: 48554 entries, 0 to 48619\n",
      "Data columns (total 12 columns):\n",
      " #   Column             Non-Null Count  Dtype  \n",
      "---  ------             --------------  -----  \n",
      " 0   pizza_id           48554 non-null  int64  \n",
      " 1   order_id           48554 non-null  int64  \n",
      " 2   pizza_name_id      48554 non-null  object \n",
      " 3   quantity           48554 non-null  int64  \n",
      " 4   order_date         48554 non-null  object \n",
      " 5   order_time         48554 non-null  object \n",
      " 6   unit_price         48554 non-null  float64\n",
      " 7   total_price        48554 non-null  float64\n",
      " 8   pizza_size         48554 non-null  object \n",
      " 9   pizza_category     48554 non-null  object \n",
      " 10  pizza_ingredients  48554 non-null  object \n",
      " 11  pizza_name         48554 non-null  object \n",
      "dtypes: float64(2), int64(3), object(7)\n",
      "memory usage: 4.8+ MB\n"
     ]
    }
   ],
   "source": [
    "pizza_df.info()"
   ]
  },
  {
   "cell_type": "code",
   "execution_count": 119,
   "metadata": {},
   "outputs": [
    {
     "data": {
      "text/plain": [
       "0"
      ]
     },
     "execution_count": 119,
     "metadata": {},
     "output_type": "execute_result"
    }
   ],
   "source": [
    "pizza_df.duplicated().sum()"
   ]
  },
  {
   "cell_type": "code",
   "execution_count": 121,
   "metadata": {},
   "outputs": [
    {
     "data": {
      "text/plain": [
       "(48554, 12)"
      ]
     },
     "execution_count": 121,
     "metadata": {},
     "output_type": "execute_result"
    }
   ],
   "source": [
    "pizza_df.shape"
   ]
  },
  {
   "cell_type": "code",
   "execution_count": 123,
   "metadata": {
    "id": "krTeF4CV3qgA"
   },
   "outputs": [],
   "source": [
    "def parse_dates(date):\n",
    "  for fmt in ('%d-%m-%Y', '%d/%m/%Y'):\n",
    "    try:\n",
    "      return pd.to_datetime(date, format=fmt)\n",
    "    except ValueError:\n",
    "      pass\n",
    "  raise ValueError(f'no valid date format found for {date}')"
   ]
  },
  {
   "cell_type": "code",
   "execution_count": 125,
   "metadata": {},
   "outputs": [
    {
     "data": {
      "text/plain": [
       "0    1/1/2015\n",
       "1    1/1/2015\n",
       "2    1/1/2015\n",
       "3    1/1/2015\n",
       "4    1/1/2015\n",
       "Name: order_date, dtype: object"
      ]
     },
     "execution_count": 125,
     "metadata": {},
     "output_type": "execute_result"
    }
   ],
   "source": [
    "pizza_df['order_date'].head()"
   ]
  },
  {
   "cell_type": "code",
   "execution_count": 127,
   "metadata": {
    "id": "ELPqcdyS3xFg"
   },
   "outputs": [],
   "source": [
    "pizza_df['order_date'] = pizza_df['order_date'].apply(parse_dates)"
   ]
  },
  {
   "cell_type": "code",
   "execution_count": 128,
   "metadata": {},
   "outputs": [
    {
     "data": {
      "image/png": "[encoded data removed]",
      "text/plain": [
       "<Figure size 1200x600 with 1 Axes>"
      ]
     },
     "metadata": {},
     "output_type": "display_data"
    }
   ],
   "source": [
    "# Group by order date and sum the quantity\n",
    "quantity_over_time = pizza_df.groupby('order_date')['quantity'].sum()\n",
    "\n",
    "# Create the plot\n",
    "plt.figure(figsize=(12, 6))\n",
    "plt.plot(quantity_over_time.index, quantity_over_time.values)\n",
    "plt.xlabel('Order Date')\n",
    "plt.ylabel('Quantity Sold')\n",
    "plt.title('Quantity Sold Over Time')\n",
    "plt.grid(True)\n",
    "plt.show()"
   ]
  },
  {
   "cell_type": "code",
   "execution_count": null,
   "metadata": {},
   "outputs": [],
   "source": [
    "#Autocorrelation and partial Autocorrelation"
   ]
  },
  {
   "cell_type": "code",
   "execution_count": 131,
   "metadata": {},
   "outputs": [],
   "source": [
    "from statsmodels.graphics.tsaplots import plot_acf, plot_pacf"
   ]
  },
  {
   "cell_type": "code",
   "execution_count": 133,
   "metadata": {},
   "outputs": [
    {
     "data": {
      "image/png": "[encoded data removed]",
      "text/plain": [
       "<Figure size 1200x800 with 2 Axes>"
      ]
     },
     "metadata": {},
     "output_type": "display_data"
    }
   ],
   "source": [
    "fig = plt.figure(figsize=(12,8))\n",
    "ax1 = fig.add_subplot(211)\n",
    "fig = plot_acf(quantity_over_time, lags=40, ax=ax1)\n",
    "ax2 = fig.add_subplot(212)\n",
    "fig = plot_pacf(quantity_over_time, lags=40, ax=ax2)"
   ]
  },
  {
   "cell_type": "code",
   "execution_count": 135,
   "metadata": {},
   "outputs": [],
   "source": [
    "from statsmodels.tsa.stattools import adfuller"
   ]
  },
  {
   "cell_type": "code",
   "execution_count": 137,
   "metadata": {},
   "outputs": [],
   "source": [
    "# H0: it is not stationary\n",
    "# H1: it is stationary\n",
    "\n",
    "def adf_test(sales):\n",
    "  result = adfuller(sales)\n",
    "  print('ADF Statistic: %f' % result[0])\n",
    "  print('p-value: %f' % result[1])\n",
    "  print(f'# Lags used: {result[2]}')\n",
    "  print(f'No of observations used: {result[3]}')\n",
    "  if result[1] <= 0.05:\n",
    "    print('we reject the null hypothesis, The series is stationary')\n",
    "  else:\n",
    "    print('Not enough statistical evidence to reject null hypothesis, The series is not stationary')"
   ]
  },
  {
   "cell_type": "code",
   "execution_count": 139,
   "metadata": {},
   "outputs": [
    {
     "name": "stdout",
     "output_type": "stream",
     "text": [
      "ADF Statistic: -5.208670\n",
      "p-value: 0.000008\n",
      "# Lags used: 15\n",
      "No of observations used: 342\n",
      "we reject the null hypothesis, The series is stationary\n"
     ]
    }
   ],
   "source": [
    "adf_test(quantity_over_time)"
   ]
  },
  {
   "cell_type": "code",
   "execution_count": 141,
   "metadata": {},
   "outputs": [],
   "source": [
    "from statsmodels.tsa.statespace.sarimax import SARIMAX\n",
    "from statsmodels.tsa.arima.model import ARIMA\n",
    "from sklearn.metrics import mean_absolute_error, mean_squared_error"
   ]
  },
  {
   "cell_type": "code",
   "execution_count": 143,
   "metadata": {},
   "outputs": [],
   "source": [
    "eval_data = pizza_df.groupby(['order_date', 'pizza_name'])['quantity'].sum().unstack().fillna(0)"
   ]
  },
  {
   "cell_type": "code",
   "execution_count": 145,
   "metadata": {},
   "outputs": [
    {
     "data": {
      "text/html": [
       "<div>\n",
       "<style scoped>\n",
       "    .dataframe tbody tr th:only-of-type {\n",
       "        vertical-align: middle;\n",
       "    }\n",
       "\n",
       "    .dataframe tbody tr th {\n",
       "        vertical-align: top;\n",
       "    }\n",
       "\n",
       "    .dataframe thead th {\n",
       "        text-align: right;\n",
       "    }\n",
       "</style>\n",
       "<table border=\"1\" class=\"dataframe\">\n",
       "  <thead>\n",
       "    <tr style=\"text-align: right;\">\n",
       "      <th>pizza_name</th>\n",
       "      <th>The Barbecue Chicken Pizza</th>\n",
       "      <th>The Big Meat Pizza</th>\n",
       "      <th>The Brie Carre Pizza</th>\n",
       "      <th>The Calabrese Pizza</th>\n",
       "      <th>The California Chicken Pizza</th>\n",
       "      <th>The Chicken Alfredo Pizza</th>\n",
       "      <th>The Chicken Pesto Pizza</th>\n",
       "      <th>The Classic Deluxe Pizza</th>\n",
       "      <th>The Five Cheese Pizza</th>\n",
       "      <th>The Four Cheese Pizza</th>\n",
       "      <th>...</th>\n",
       "      <th>The Prosciutto and Arugula Pizza</th>\n",
       "      <th>The Sicilian Pizza</th>\n",
       "      <th>The Soppressata Pizza</th>\n",
       "      <th>The Southwest Chicken Pizza</th>\n",
       "      <th>The Spicy Italian Pizza</th>\n",
       "      <th>The Spinach Pesto Pizza</th>\n",
       "      <th>The Spinach Supreme Pizza</th>\n",
       "      <th>The Spinach and Feta Pizza</th>\n",
       "      <th>The Thai Chicken Pizza</th>\n",
       "      <th>The Vegetables + Vegetables Pizza</th>\n",
       "    </tr>\n",
       "    <tr>\n",
       "      <th>order_date</th>\n",
       "      <th></th>\n",
       "      <th></th>\n",
       "      <th></th>\n",
       "      <th></th>\n",
       "      <th></th>\n",
       "      <th></th>\n",
       "      <th></th>\n",
       "      <th></th>\n",
       "      <th></th>\n",
       "      <th></th>\n",
       "      <th></th>\n",
       "      <th></th>\n",
       "      <th></th>\n",
       "      <th></th>\n",
       "      <th></th>\n",
       "      <th></th>\n",
       "      <th></th>\n",
       "      <th></th>\n",
       "      <th></th>\n",
       "      <th></th>\n",
       "      <th></th>\n",
       "    </tr>\n",
       "  </thead>\n",
       "  <tbody>\n",
       "    <tr>\n",
       "      <th>2015-01-01</th>\n",
       "      <td>11.0</td>\n",
       "      <td>5.0</td>\n",
       "      <td>0.0</td>\n",
       "      <td>1.0</td>\n",
       "      <td>4.0</td>\n",
       "      <td>2.0</td>\n",
       "      <td>4.0</td>\n",
       "      <td>10.0</td>\n",
       "      <td>6.0</td>\n",
       "      <td>5.0</td>\n",
       "      <td>...</td>\n",
       "      <td>4.0</td>\n",
       "      <td>4.0</td>\n",
       "      <td>0.0</td>\n",
       "      <td>7.0</td>\n",
       "      <td>5.0</td>\n",
       "      <td>2.0</td>\n",
       "      <td>5.0</td>\n",
       "      <td>2.0</td>\n",
       "      <td>7.0</td>\n",
       "      <td>3.0</td>\n",
       "    </tr>\n",
       "    <tr>\n",
       "      <th>2015-01-02</th>\n",
       "      <td>8.0</td>\n",
       "      <td>8.0</td>\n",
       "      <td>0.0</td>\n",
       "      <td>0.0</td>\n",
       "      <td>5.0</td>\n",
       "      <td>1.0</td>\n",
       "      <td>2.0</td>\n",
       "      <td>6.0</td>\n",
       "      <td>6.0</td>\n",
       "      <td>3.0</td>\n",
       "      <td>...</td>\n",
       "      <td>4.0</td>\n",
       "      <td>6.0</td>\n",
       "      <td>4.0</td>\n",
       "      <td>6.0</td>\n",
       "      <td>11.0</td>\n",
       "      <td>2.0</td>\n",
       "      <td>7.0</td>\n",
       "      <td>4.0</td>\n",
       "      <td>9.0</td>\n",
       "      <td>5.0</td>\n",
       "    </tr>\n",
       "    <tr>\n",
       "      <th>2015-01-03</th>\n",
       "      <td>7.0</td>\n",
       "      <td>8.0</td>\n",
       "      <td>0.0</td>\n",
       "      <td>1.0</td>\n",
       "      <td>11.0</td>\n",
       "      <td>5.0</td>\n",
       "      <td>3.0</td>\n",
       "      <td>5.0</td>\n",
       "      <td>4.0</td>\n",
       "      <td>7.0</td>\n",
       "      <td>...</td>\n",
       "      <td>7.0</td>\n",
       "      <td>6.0</td>\n",
       "      <td>1.0</td>\n",
       "      <td>5.0</td>\n",
       "      <td>4.0</td>\n",
       "      <td>3.0</td>\n",
       "      <td>2.0</td>\n",
       "      <td>2.0</td>\n",
       "      <td>9.0</td>\n",
       "      <td>7.0</td>\n",
       "    </tr>\n",
       "    <tr>\n",
       "      <th>2015-01-04</th>\n",
       "      <td>9.0</td>\n",
       "      <td>0.0</td>\n",
       "      <td>2.0</td>\n",
       "      <td>2.0</td>\n",
       "      <td>5.0</td>\n",
       "      <td>4.0</td>\n",
       "      <td>1.0</td>\n",
       "      <td>4.0</td>\n",
       "      <td>2.0</td>\n",
       "      <td>4.0</td>\n",
       "      <td>...</td>\n",
       "      <td>4.0</td>\n",
       "      <td>3.0</td>\n",
       "      <td>0.0</td>\n",
       "      <td>1.0</td>\n",
       "      <td>4.0</td>\n",
       "      <td>3.0</td>\n",
       "      <td>4.0</td>\n",
       "      <td>3.0</td>\n",
       "      <td>5.0</td>\n",
       "      <td>1.0</td>\n",
       "    </tr>\n",
       "    <tr>\n",
       "      <th>2015-01-05</th>\n",
       "      <td>2.0</td>\n",
       "      <td>3.0</td>\n",
       "      <td>2.0</td>\n",
       "      <td>0.0</td>\n",
       "      <td>6.0</td>\n",
       "      <td>8.0</td>\n",
       "      <td>2.0</td>\n",
       "      <td>9.0</td>\n",
       "      <td>5.0</td>\n",
       "      <td>4.0</td>\n",
       "      <td>...</td>\n",
       "      <td>2.0</td>\n",
       "      <td>5.0</td>\n",
       "      <td>2.0</td>\n",
       "      <td>3.0</td>\n",
       "      <td>2.0</td>\n",
       "      <td>4.0</td>\n",
       "      <td>2.0</td>\n",
       "      <td>2.0</td>\n",
       "      <td>6.0</td>\n",
       "      <td>2.0</td>\n",
       "    </tr>\n",
       "  </tbody>\n",
       "</table>\n",
       "<p>5 rows × 32 columns</p>\n",
       "</div>"
      ],
      "text/plain": [
       "pizza_name  The Barbecue Chicken Pizza  The Big Meat Pizza  \\\n",
       "order_date                                                   \n",
       "2015-01-01                        11.0                 5.0   \n",
       "2015-01-02                         8.0                 8.0   \n",
       "2015-01-03                         7.0                 8.0   \n",
       "2015-01-04                         9.0                 0.0   \n",
       "2015-01-05                         2.0                 3.0   \n",
       "\n",
       "pizza_name  The Brie Carre Pizza  The Calabrese Pizza  \\\n",
       "order_date                                              \n",
       "2015-01-01                   0.0                  1.0   \n",
       "2015-01-02                   0.0                  0.0   \n",
       "2015-01-03                   0.0                  1.0   \n",
       "2015-01-04                   2.0                  2.0   \n",
       "2015-01-05                   2.0                  0.0   \n",
       "\n",
       "pizza_name  The California Chicken Pizza  The Chicken Alfredo Pizza  \\\n",
       "order_date                                                            \n",
       "2015-01-01                           4.0                        2.0   \n",
       "2015-01-02                           5.0                        1.0   \n",
       "2015-01-03                          11.0                        5.0   \n",
       "2015-01-04                           5.0                        4.0   \n",
       "2015-01-05                           6.0                        8.0   \n",
       "\n",
       "pizza_name  The Chicken Pesto Pizza  The Classic Deluxe Pizza  \\\n",
       "order_date                                                      \n",
       "2015-01-01                      4.0                      10.0   \n",
       "2015-01-02                      2.0                       6.0   \n",
       "2015-01-03                      3.0                       5.0   \n",
       "2015-01-04                      1.0                       4.0   \n",
       "2015-01-05                      2.0                       9.0   \n",
       "\n",
       "pizza_name  The Five Cheese Pizza  The Four Cheese Pizza  ...  \\\n",
       "order_date                                                ...   \n",
       "2015-01-01                    6.0                    5.0  ...   \n",
       "2015-01-02                    6.0                    3.0  ...   \n",
       "2015-01-03                    4.0                    7.0  ...   \n",
       "2015-01-04                    2.0                    4.0  ...   \n",
       "2015-01-05                    5.0                    4.0  ...   \n",
       "\n",
       "pizza_name  The Prosciutto and Arugula Pizza  The Sicilian Pizza  \\\n",
       "order_date                                                         \n",
       "2015-01-01                               4.0                 4.0   \n",
       "2015-01-02                               4.0                 6.0   \n",
       "2015-01-03                               7.0                 6.0   \n",
       "2015-01-04                               4.0                 3.0   \n",
       "2015-01-05                               2.0                 5.0   \n",
       "\n",
       "pizza_name  The Soppressata Pizza  The Southwest Chicken Pizza  \\\n",
       "order_date                                                       \n",
       "2015-01-01                    0.0                          7.0   \n",
       "2015-01-02                    4.0                          6.0   \n",
       "2015-01-03                    1.0                          5.0   \n",
       "2015-01-04                    0.0                          1.0   \n",
       "2015-01-05                    2.0                          3.0   \n",
       "\n",
       "pizza_name  The Spicy Italian Pizza  The Spinach Pesto Pizza  \\\n",
       "order_date                                                     \n",
       "2015-01-01                      5.0                      2.0   \n",
       "2015-01-02                     11.0                      2.0   \n",
       "2015-01-03                      4.0                      3.0   \n",
       "2015-01-04                      4.0                      3.0   \n",
       "2015-01-05                      2.0                      4.0   \n",
       "\n",
       "pizza_name  The Spinach Supreme Pizza  The Spinach and Feta Pizza  \\\n",
       "order_date                                                          \n",
       "2015-01-01                        5.0                         2.0   \n",
       "2015-01-02                        7.0                         4.0   \n",
       "2015-01-03                        2.0                         2.0   \n",
       "2015-01-04                        4.0                         3.0   \n",
       "2015-01-05                        2.0                         2.0   \n",
       "\n",
       "pizza_name  The Thai Chicken Pizza  The Vegetables + Vegetables Pizza  \n",
       "order_date                                                             \n",
       "2015-01-01                     7.0                                3.0  \n",
       "2015-01-02                     9.0                                5.0  \n",
       "2015-01-03                     9.0                                7.0  \n",
       "2015-01-04                     5.0                                1.0  \n",
       "2015-01-05                     6.0                                2.0  \n",
       "\n",
       "[5 rows x 32 columns]"
      ]
     },
     "execution_count": 145,
     "metadata": {},
     "output_type": "execute_result"
    }
   ],
   "source": [
    "eval_data.head()"
   ]
  },
  {
   "cell_type": "code",
   "execution_count": 147,
   "metadata": {},
   "outputs": [],
   "source": [
    "one_pizza = eval_data['The Barbecue Chicken Pizza']"
   ]
  },
  {
   "cell_type": "code",
   "execution_count": 149,
   "metadata": {},
   "outputs": [],
   "source": [
    "# split train and test\n",
    "train = one_pizza[:-7]\n",
    "test = one_pizza[-7:]"
   ]
  },
  {
   "cell_type": "code",
   "execution_count": 151,
   "metadata": {},
   "outputs": [],
   "source": [
    "# Fit Arima model\n",
    "ari_model = ARIMA(train, order=(1, 1, 0))\n",
    "ari_result = ari_model.fit()"
   ]
  },
  {
   "cell_type": "code",
   "execution_count": 153,
   "metadata": {},
   "outputs": [],
   "source": [
    "# forecast\n",
    "ari_forecast = ari_result.get_forecast(steps=len(test))\n",
    "ari_fore_values = ari_forecast.predicted_mean"
   ]
  },
  {
   "cell_type": "code",
   "execution_count": 155,
   "metadata": {},
   "outputs": [],
   "source": [
    "ari_predict = ari_result.predict(start=len(train), end=len(train)+len(test)-1, dynamic=True)"
   ]
  },
  {
   "cell_type": "code",
   "execution_count": 159,
   "metadata": {},
   "outputs": [],
   "source": [
    "ari_predict.index = test.index"
   ]
  },
  {
   "cell_type": "code",
   "execution_count": 161,
   "metadata": {},
   "outputs": [
    {
     "data": {
      "text/html": [
       "<div>\n",
       "<style scoped>\n",
       "    .dataframe tbody tr th:only-of-type {\n",
       "        vertical-align: middle;\n",
       "    }\n",
       "\n",
       "    .dataframe tbody tr th {\n",
       "        vertical-align: top;\n",
       "    }\n",
       "\n",
       "    .dataframe thead th {\n",
       "        text-align: right;\n",
       "    }\n",
       "</style>\n",
       "<table border=\"1\" class=\"dataframe\">\n",
       "  <thead>\n",
       "    <tr style=\"text-align: right;\">\n",
       "      <th></th>\n",
       "      <th>Actual</th>\n",
       "      <th>Predicted</th>\n",
       "    </tr>\n",
       "    <tr>\n",
       "      <th>order_date</th>\n",
       "      <th></th>\n",
       "      <th></th>\n",
       "    </tr>\n",
       "  </thead>\n",
       "  <tbody>\n",
       "    <tr>\n",
       "      <th>2015-12-24</th>\n",
       "      <td>4.0</td>\n",
       "      <td>4.970012</td>\n",
       "    </tr>\n",
       "    <tr>\n",
       "      <th>2015-12-26</th>\n",
       "      <td>5.0</td>\n",
       "      <td>5.500450</td>\n",
       "    </tr>\n",
       "    <tr>\n",
       "      <th>2015-12-27</th>\n",
       "      <td>4.0</td>\n",
       "      <td>5.227277</td>\n",
       "    </tr>\n",
       "    <tr>\n",
       "      <th>2015-12-28</th>\n",
       "      <td>2.0</td>\n",
       "      <td>5.367959</td>\n",
       "    </tr>\n",
       "    <tr>\n",
       "      <th>2015-12-29</th>\n",
       "      <td>4.0</td>\n",
       "      <td>5.295509</td>\n",
       "    </tr>\n",
       "    <tr>\n",
       "      <th>2015-12-30</th>\n",
       "      <td>6.0</td>\n",
       "      <td>5.332820</td>\n",
       "    </tr>\n",
       "    <tr>\n",
       "      <th>2015-12-31</th>\n",
       "      <td>10.0</td>\n",
       "      <td>5.313605</td>\n",
       "    </tr>\n",
       "  </tbody>\n",
       "</table>\n",
       "</div>"
      ],
      "text/plain": [
       "            Actual  Predicted\n",
       "order_date                   \n",
       "2015-12-24     4.0   4.970012\n",
       "2015-12-26     5.0   5.500450\n",
       "2015-12-27     4.0   5.227277\n",
       "2015-12-28     2.0   5.367959\n",
       "2015-12-29     4.0   5.295509\n",
       "2015-12-30     6.0   5.332820\n",
       "2015-12-31    10.0   5.313605"
      ]
     },
     "execution_count": 161,
     "metadata": {},
     "output_type": "execute_result"
    }
   ],
   "source": [
    "# concat test and ari_predict without changing the index of test, test is a pandas series\n",
    "concatenated_series = pd.concat([test, ari_predict], axis=1)\n",
    "concatenated_series.columns = ['Actual', 'Predicted']\n",
    "concatenated_series"
   ]
  },
  {
   "cell_type": "code",
   "execution_count": 163,
   "metadata": {},
   "outputs": [
    {
     "data": {
      "image/png": "[encoded data removed]",
      "text/plain": [
       "<Figure size 1200x600 with 1 Axes>"
      ]
     },
     "metadata": {},
     "output_type": "display_data"
    }
   ],
   "source": [
    "concatenated_series.plot(figsize=(12, 6))\n",
    "plt.xlabel('Order Date')\n",
    "plt.ylabel('Quantity Sold')\n",
    "plt.title('Actual vs. Predicted Quantity Sold for \"The Barbecue Chicken Pizza\"')\n",
    "plt.show()"
   ]
  },
  {
   "cell_type": "code",
   "execution_count": 165,
   "metadata": {},
   "outputs": [
    {
     "name": "stdout",
     "output_type": "stream",
     "text": [
      "ARIMA MAE: 1.816397288505063\n",
      "ARIMA MSE: 5.446642862725457\n",
      "ARIMA RMSE: 2.333804375419126\n"
     ]
    }
   ],
   "source": [
    "# Evaluate the model\n",
    "mae = mean_absolute_error(test, ari_fore_values)\n",
    "mse = mean_squared_error(test, ari_fore_values)\n",
    "rmse = np.sqrt(mse)\n",
    "\n",
    "print(f'ARIMA MAE: {mae}')\n",
    "print(f'ARIMA MSE: {mse}')\n",
    "print(f'ARIMA RMSE: {rmse}')"
   ]
  },
  {
   "cell_type": "code",
   "execution_count": 167,
   "metadata": {},
   "outputs": [],
   "source": [
    "# fit SARIMA model\n",
    "sari_model = SARIMAX(train, order=(1, 1, 1), seasonal_order=(1, 1, 1, 7))\n",
    "sari_result = sari_model.fit()"
   ]
  },
  {
   "cell_type": "code",
   "execution_count": 169,
   "metadata": {},
   "outputs": [],
   "source": [
    "# sarima forecast\n",
    "sari_forecast = sari_result.get_forecast(steps=len(test))\n",
    "sari_fore_values = sari_forecast.predicted_mean"
   ]
  },
  {
   "cell_type": "code",
   "execution_count": 171,
   "metadata": {},
   "outputs": [
    {
     "name": "stdout",
     "output_type": "stream",
     "text": [
      "SARIMAX MAE: 2.5757273222118218\n",
      "SARIMAX MSE: 8.296227344711683\n",
      "SARIMAX RMSE: 2.88031722987446\n"
     ]
    }
   ],
   "source": [
    "# Evaluate Sarima\n",
    "mae = mean_absolute_error(test, sari_fore_values)\n",
    "mse = mean_squared_error(test, sari_fore_values)\n",
    "rmse = np.sqrt(mse)\n",
    "\n",
    "print(f'SARIMAX MAE: {mae}')\n",
    "print(f'SARIMAX MSE: {mse}')\n",
    "print(f'SARIMAX RMSE: {rmse}')"
   ]
  },
  {
   "cell_type": "code",
   "execution_count": 173,
   "metadata": {},
   "outputs": [],
   "source": [
    "sari_predict = sari_result.predict(start=len(train), end=len(train)+len(test)-1, dynamic=True)"
   ]
  },
  {
   "cell_type": "code",
   "execution_count": 175,
   "metadata": {},
   "outputs": [],
   "source": [
    "sari_predict.index = test.index"
   ]
  },
  {
   "cell_type": "code",
   "execution_count": 177,
   "metadata": {},
   "outputs": [
    {
     "data": {
      "text/plain": [
       "order_date\n",
       "2015-12-24    7.277330\n",
       "2015-12-26    7.485492\n",
       "2015-12-27    5.527346\n",
       "2015-12-28    6.337330\n",
       "2015-12-29    6.738886\n",
       "2015-12-30    5.870636\n",
       "2015-12-31    6.465658\n",
       "Name: predicted_mean, dtype: float64"
      ]
     },
     "execution_count": 177,
     "metadata": {},
     "output_type": "execute_result"
    }
   ],
   "source": [
    "sari_predict"
   ]
  },
  {
   "cell_type": "code",
   "execution_count": 179,
   "metadata": {},
   "outputs": [
    {
     "data": {
      "text/html": [
       "<div>\n",
       "<style scoped>\n",
       "    .dataframe tbody tr th:only-of-type {\n",
       "        vertical-align: middle;\n",
       "    }\n",
       "\n",
       "    .dataframe tbody tr th {\n",
       "        vertical-align: top;\n",
       "    }\n",
       "\n",
       "    .dataframe thead th {\n",
       "        text-align: right;\n",
       "    }\n",
       "</style>\n",
       "<table border=\"1\" class=\"dataframe\">\n",
       "  <thead>\n",
       "    <tr style=\"text-align: right;\">\n",
       "      <th></th>\n",
       "      <th>Actual</th>\n",
       "      <th>Predicted</th>\n",
       "    </tr>\n",
       "    <tr>\n",
       "      <th>order_date</th>\n",
       "      <th></th>\n",
       "      <th></th>\n",
       "    </tr>\n",
       "  </thead>\n",
       "  <tbody>\n",
       "    <tr>\n",
       "      <th>2015-12-24</th>\n",
       "      <td>4.0</td>\n",
       "      <td>7.277330</td>\n",
       "    </tr>\n",
       "    <tr>\n",
       "      <th>2015-12-26</th>\n",
       "      <td>5.0</td>\n",
       "      <td>7.485492</td>\n",
       "    </tr>\n",
       "    <tr>\n",
       "      <th>2015-12-27</th>\n",
       "      <td>4.0</td>\n",
       "      <td>5.527346</td>\n",
       "    </tr>\n",
       "    <tr>\n",
       "      <th>2015-12-28</th>\n",
       "      <td>2.0</td>\n",
       "      <td>6.337330</td>\n",
       "    </tr>\n",
       "    <tr>\n",
       "      <th>2015-12-29</th>\n",
       "      <td>4.0</td>\n",
       "      <td>6.738886</td>\n",
       "    </tr>\n",
       "    <tr>\n",
       "      <th>2015-12-30</th>\n",
       "      <td>6.0</td>\n",
       "      <td>5.870636</td>\n",
       "    </tr>\n",
       "    <tr>\n",
       "      <th>2015-12-31</th>\n",
       "      <td>10.0</td>\n",
       "      <td>6.465658</td>\n",
       "    </tr>\n",
       "  </tbody>\n",
       "</table>\n",
       "</div>"
      ],
      "text/plain": [
       "            Actual  Predicted\n",
       "order_date                   \n",
       "2015-12-24     4.0   7.277330\n",
       "2015-12-26     5.0   7.485492\n",
       "2015-12-27     4.0   5.527346\n",
       "2015-12-28     2.0   6.337330\n",
       "2015-12-29     4.0   6.738886\n",
       "2015-12-30     6.0   5.870636\n",
       "2015-12-31    10.0   6.465658"
      ]
     },
     "execution_count": 179,
     "metadata": {},
     "output_type": "execute_result"
    }
   ],
   "source": [
    "concatenated_sarima = pd.concat([test, sari_predict] , axis=1)\n",
    "concatenated_sarima.columns = ['Actual', 'Predicted']\n",
    "concatenated_sarima"
   ]
  },
  {
   "cell_type": "code",
   "execution_count": 183,
   "metadata": {},
   "outputs": [
    {
     "data": {
      "image/png": "[encoded data removed]",
      "text/plain": [
       "<Figure size 1200x600 with 1 Axes>"
      ]
     },
     "metadata": {},
     "output_type": "display_data"
    }
   ],
   "source": [
    "concatenated_sarima.plot(figsize=(12, 6))\n",
    "plt.xlabel('Order Date')\n",
    "plt.ylabel('Quantity Sold')\n",
    "plt.title('Actual vs. Predicted Quantity Sold for \"The Barbecue Chicken Pizza\"')\n",
    "plt.show()  "
   ]
  },
  {
   "cell_type": "code",
   "execution_count": 185,
   "metadata": {},
   "outputs": [
    {
     "name": "stdout",
     "output_type": "stream",
     "text": [
      "Collecting prophet\n",
      "  Downloading prophet-1.1.6-py3-none-win_amd64.whl.metadata (3.6 kB)\n",
      "Collecting cmdstanpy>=1.0.4 (from prophet)\n",
      "  Downloading cmdstanpy-1.2.4-py3-none-any.whl.metadata (4.1 kB)\n",
      "Requirement already satisfied: numpy>=1.15.4 in c:\\users\\durai\\anaconda3\\lib\\site-packages (from prophet) (1.26.4)\n",
      "Requirement already satisfied: matplotlib>=2.0.0 in c:\\users\\durai\\anaconda3\\lib\\site-packages (from prophet) (3.9.2)\n",
      "Requirement already satisfied: pandas>=1.0.4 in c:\\users\\durai\\anaconda3\\lib\\site-packages (from prophet) (2.2.2)\n",
      "Collecting holidays<1,>=0.25 (from prophet)\n",
      "  Downloading holidays-0.62-py3-none-any.whl.metadata (26 kB)\n",
      "Requirement already satisfied: tqdm>=4.36.1 in c:\\users\\durai\\anaconda3\\lib\\site-packages (from prophet) (4.66.5)\n",
      "Collecting importlib-resources (from prophet)\n",
      "  Downloading importlib_resources-6.4.5-py3-none-any.whl.metadata (4.0 kB)\n",
      "Collecting stanio<2.0.0,>=0.4.0 (from cmdstanpy>=1.0.4->prophet)\n",
      "  Downloading stanio-0.5.1-py3-none-any.whl.metadata (1.6 kB)\n",
      "Requirement already satisfied: python-dateutil in c:\\users\\durai\\anaconda3\\lib\\site-packages (from holidays<1,>=0.25->prophet) (2.9.0.post0)\n",
      "Requirement already satisfied: contourpy>=1.0.1 in c:\\users\\durai\\anaconda3\\lib\\site-packages (from matplotlib>=2.0.0->prophet) (1.3.1)\n",
      "Requirement already satisfied: cycler>=0.10 in c:\\users\\durai\\anaconda3\\lib\\site-packages (from matplotlib>=2.0.0->prophet) (0.11.0)\n",
      "Requirement already satisfied: fonttools>=4.22.0 in c:\\users\\durai\\anaconda3\\lib\\site-packages (from matplotlib>=2.0.0->prophet) (4.51.0)\n",
      "Requirement already satisfied: kiwisolver>=1.3.1 in c:\\users\\durai\\anaconda3\\lib\\site-packages (from matplotlib>=2.0.0->prophet) (1.4.4)\n",
      "Requirement already satisfied: packaging>=20.0 in c:\\users\\durai\\anaconda3\\lib\\site-packages (from matplotlib>=2.0.0->prophet) (24.1)\n",
      "Requirement already satisfied: pillow>=8 in c:\\users\\durai\\anaconda3\\lib\\site-packages (from matplotlib>=2.0.0->prophet) (11.0.0)\n",
      "Requirement already satisfied: pyparsing>=2.3.1 in c:\\users\\durai\\anaconda3\\lib\\site-packages (from matplotlib>=2.0.0->prophet) (3.2.0)\n",
      "Requirement already satisfied: pytz>=2020.1 in c:\\users\\durai\\anaconda3\\lib\\site-packages (from pandas>=1.0.4->prophet) (2024.1)\n",
      "Requirement already satisfied: tzdata>=2022.7 in c:\\users\\durai\\anaconda3\\lib\\site-packages (from pandas>=1.0.4->prophet) (2023.3)\n",
      "Requirement already satisfied: colorama in c:\\users\\durai\\anaconda3\\lib\\site-packages (from tqdm>=4.36.1->prophet) (0.4.6)\n",
      "Requirement already satisfied: six>=1.5 in c:\\users\\durai\\anaconda3\\lib\\site-packages (from python-dateutil->holidays<1,>=0.25->prophet) (1.16.0)\n",
      "Downloading prophet-1.1.6-py3-none-win_amd64.whl (13.3 MB)\n",
      "   ---------------------------------------- 0.0/13.3 MB ? eta -:--:--\n",
      "   ---------------------------------------- 0.0/13.3 MB ? eta -:--:--\n",
      "   ---------------------------------------- 0.0/13.3 MB ? eta -:--:--\n",
      "   ---------------------------------------- 0.0/13.3 MB ? eta -:--:--\n",
      "    --------------------------------------- 0.3/13.3 MB ? eta -:--:--\n",
      "    --------------------------------------- 0.3/13.3 MB ? eta -:--:--\n",
      "    --------------------------------------- 0.3/13.3 MB ? eta -:--:--\n",
      "    --------------------------------------- 0.3/13.3 MB ? eta -:--:--\n",
      "   - -------------------------------------- 0.5/13.3 MB 294.5 kB/s eta 0:00:44\n",
      "   - -------------------------------------- 0.5/13.3 MB 294.5 kB/s eta 0:00:44\n",
      "   -- ------------------------------------- 0.8/13.3 MB 409.3 kB/s eta 0:00:31\n",
      "   -- ------------------------------------- 0.8/13.3 MB 409.3 kB/s eta 0:00:31\n",
      "   --- ------------------------------------ 1.0/13.3 MB 470.4 kB/s eta 0:00:27\n",
      "   --- ------------------------------------ 1.0/13.3 MB 470.4 kB/s eta 0:00:27\n",
      "   --- ------------------------------------ 1.3/13.3 MB 486.4 kB/s eta 0:00:25\n",
      "   --- ------------------------------------ 1.3/13.3 MB 486.4 kB/s eta 0:00:25\n",
      "   --- ------------------------------------ 1.3/13.3 MB 486.4 kB/s eta 0:00:25\n",
      "   ---- ----------------------------------- 1.6/13.3 MB 490.5 kB/s eta 0:00:24\n",
      "   ---- ----------------------------------- 1.6/13.3 MB 490.5 kB/s eta 0:00:24\n",
      "   ----- ---------------------------------- 1.8/13.3 MB 495.9 kB/s eta 0:00:24\n",
      "   ----- ---------------------------------- 1.8/13.3 MB 495.9 kB/s eta 0:00:24\n",
      "   ----- ---------------------------------- 1.8/13.3 MB 495.9 kB/s eta 0:00:24\n",
      "   ------ --------------------------------- 2.1/13.3 MB 493.4 kB/s eta 0:00:23\n",
      "   ------ --------------------------------- 2.1/13.3 MB 493.4 kB/s eta 0:00:23\n",
      "   ------- -------------------------------- 2.4/13.3 MB 504.6 kB/s eta 0:00:22\n",
      "   ------- -------------------------------- 2.4/13.3 MB 504.6 kB/s eta 0:00:22\n",
      "   ------- -------------------------------- 2.6/13.3 MB 510.1 kB/s eta 0:00:21\n",
      "   ------- -------------------------------- 2.6/13.3 MB 510.1 kB/s eta 0:00:21\n",
      "   -------- ------------------------------- 2.9/13.3 MB 522.7 kB/s eta 0:00:20\n",
      "   -------- ------------------------------- 2.9/13.3 MB 522.7 kB/s eta 0:00:20\n",
      "   --------- ------------------------------ 3.1/13.3 MB 536.5 kB/s eta 0:00:19\n",
      "   ---------- ----------------------------- 3.4/13.3 MB 548.6 kB/s eta 0:00:19\n",
      "   ---------- ----------------------------- 3.4/13.3 MB 548.6 kB/s eta 0:00:19\n",
      "   ----------- ---------------------------- 3.7/13.3 MB 556.4 kB/s eta 0:00:18\n",
      "   ----------- ---------------------------- 3.7/13.3 MB 556.4 kB/s eta 0:00:18\n",
      "   ----------- ---------------------------- 3.9/13.3 MB 561.9 kB/s eta 0:00:17\n",
      "   ----------- ---------------------------- 3.9/13.3 MB 561.9 kB/s eta 0:00:17\n",
      "   ------------ --------------------------- 4.2/13.3 MB 570.7 kB/s eta 0:00:17\n",
      "   ------------ --------------------------- 4.2/13.3 MB 570.7 kB/s eta 0:00:17\n",
      "   ------------- -------------------------- 4.5/13.3 MB 571.1 kB/s eta 0:00:16\n",
      "   -------------- ------------------------- 4.7/13.3 MB 582.1 kB/s eta 0:00:15\n",
      "   -------------- ------------------------- 4.7/13.3 MB 582.1 kB/s eta 0:00:15\n",
      "   -------------- ------------------------- 5.0/13.3 MB 587.5 kB/s eta 0:00:15\n",
      "   -------------- ------------------------- 5.0/13.3 MB 587.5 kB/s eta 0:00:15\n",
      "   --------------- ------------------------ 5.2/13.3 MB 593.7 kB/s eta 0:00:14\n",
      "   ---------------- ----------------------- 5.5/13.3 MB 598.2 kB/s eta 0:00:14\n",
      "   ---------------- ----------------------- 5.5/13.3 MB 598.2 kB/s eta 0:00:14\n",
      "   ----------------- ---------------------- 5.8/13.3 MB 603.3 kB/s eta 0:00:13\n",
      "   ----------------- ---------------------- 5.8/13.3 MB 603.3 kB/s eta 0:00:13\n",
      "   ------------------ --------------------- 6.0/13.3 MB 612.1 kB/s eta 0:00:12\n",
      "   ------------------ --------------------- 6.0/13.3 MB 612.1 kB/s eta 0:00:12\n",
      "   ------------------ --------------------- 6.3/13.3 MB 613.5 kB/s eta 0:00:12\n",
      "   ------------------ --------------------- 6.3/13.3 MB 613.5 kB/s eta 0:00:12\n",
      "   ------------------- -------------------- 6.6/13.3 MB 612.9 kB/s eta 0:00:12\n",
      "   -------------------- ------------------- 6.8/13.3 MB 614.1 kB/s eta 0:00:11\n",
      "   -------------------- ------------------- 6.8/13.3 MB 614.1 kB/s eta 0:00:11\n",
      "   --------------------- ------------------ 7.1/13.3 MB 618.8 kB/s eta 0:00:11\n",
      "   --------------------- ------------------ 7.1/13.3 MB 618.8 kB/s eta 0:00:11\n",
      "   ---------------------- ----------------- 7.3/13.3 MB 619.7 kB/s eta 0:00:10\n",
      "   ---------------------- ----------------- 7.3/13.3 MB 619.7 kB/s eta 0:00:10\n",
      "   ---------------------- ----------------- 7.6/13.3 MB 618.9 kB/s eta 0:00:10\n",
      "   ---------------------- ----------------- 7.6/13.3 MB 618.9 kB/s eta 0:00:10\n",
      "   ---------------------- ----------------- 7.6/13.3 MB 618.9 kB/s eta 0:00:10\n",
      "   ---------------------- ----------------- 7.6/13.3 MB 618.9 kB/s eta 0:00:10\n",
      "   ----------------------- ---------------- 7.9/13.3 MB 600.7 kB/s eta 0:00:10\n",
      "   ----------------------- ---------------- 7.9/13.3 MB 600.7 kB/s eta 0:00:10\n",
      "   ----------------------- ---------------- 7.9/13.3 MB 600.7 kB/s eta 0:00:10\n",
      "   ------------------------ --------------- 8.1/13.3 MB 588.0 kB/s eta 0:00:09\n",
      "   ------------------------ --------------- 8.1/13.3 MB 588.0 kB/s eta 0:00:09\n",
      "   ------------------------ --------------- 8.1/13.3 MB 588.0 kB/s eta 0:00:09\n",
      "   ------------------------- -------------- 8.4/13.3 MB 588.4 kB/s eta 0:00:09\n",
      "   ------------------------- -------------- 8.7/13.3 MB 590.6 kB/s eta 0:00:08\n",
      "   ------------------------- -------------- 8.7/13.3 MB 590.6 kB/s eta 0:00:08\n",
      "   -------------------------- ------------- 8.9/13.3 MB 594.7 kB/s eta 0:00:08\n",
      "   -------------------------- ------------- 8.9/13.3 MB 594.7 kB/s eta 0:00:08\n",
      "   --------------------------- ------------ 9.2/13.3 MB 595.4 kB/s eta 0:00:07\n",
      "   --------------------------- ------------ 9.2/13.3 MB 595.4 kB/s eta 0:00:07\n",
      "   ---------------------------- ----------- 9.4/13.3 MB 596.8 kB/s eta 0:00:07\n",
      "   ----------------------------- ---------- 9.7/13.3 MB 601.0 kB/s eta 0:00:07\n",
      "   ----------------------------- ---------- 9.7/13.3 MB 601.0 kB/s eta 0:00:07\n",
      "   ----------------------------- ---------- 9.7/13.3 MB 601.0 kB/s eta 0:00:07\n",
      "   ----------------------------- ---------- 10.0/13.3 MB 595.7 kB/s eta 0:00:06\n",
      "   ------------------------------ --------- 10.2/13.3 MB 601.5 kB/s eta 0:00:06\n",
      "   ------------------------------ --------- 10.2/13.3 MB 601.5 kB/s eta 0:00:06\n",
      "   ------------------------------- -------- 10.5/13.3 MB 602.5 kB/s eta 0:00:05\n",
      "   ------------------------------- -------- 10.5/13.3 MB 602.5 kB/s eta 0:00:05\n",
      "   -------------------------------- ------- 10.7/13.3 MB 603.5 kB/s eta 0:00:05\n",
      "   -------------------------------- ------- 10.7/13.3 MB 603.5 kB/s eta 0:00:05\n",
      "   -------------------------------- ------- 10.7/13.3 MB 603.5 kB/s eta 0:00:05\n",
      "   --------------------------------- ------ 11.0/13.3 MB 597.1 kB/s eta 0:00:04\n",
      "   --------------------------------- ------ 11.0/13.3 MB 597.1 kB/s eta 0:00:04\n",
      "   --------------------------------- ------ 11.0/13.3 MB 597.1 kB/s eta 0:00:04\n",
      "   --------------------------------- ------ 11.3/13.3 MB 595.1 kB/s eta 0:00:04\n",
      "   --------------------------------- ------ 11.3/13.3 MB 595.1 kB/s eta 0:00:04\n",
      "   ---------------------------------- ----- 11.5/13.3 MB 591.8 kB/s eta 0:00:04\n",
      "   ---------------------------------- ----- 11.5/13.3 MB 591.8 kB/s eta 0:00:04\n",
      "   ----------------------------------- ---- 11.8/13.3 MB 591.0 kB/s eta 0:00:03\n",
      "   ----------------------------------- ---- 11.8/13.3 MB 591.0 kB/s eta 0:00:03\n",
      "   ------------------------------------ --- 12.1/13.3 MB 592.1 kB/s eta 0:00:03\n",
      "   ------------------------------------ --- 12.1/13.3 MB 592.1 kB/s eta 0:00:03\n",
      "   ------------------------------------ --- 12.3/13.3 MB 593.2 kB/s eta 0:00:02\n",
      "   ------------------------------------ --- 12.3/13.3 MB 593.2 kB/s eta 0:00:02\n",
      "   ------------------------------------- -- 12.6/13.3 MB 595.1 kB/s eta 0:00:02\n",
      "   -------------------------------------- - 12.8/13.3 MB 598.8 kB/s eta 0:00:01\n",
      "   -------------------------------------- - 12.8/13.3 MB 598.8 kB/s eta 0:00:01\n",
      "   -------------------------------------- - 12.8/13.3 MB 598.8 kB/s eta 0:00:01\n",
      "   ---------------------------------------  13.1/13.3 MB 597.9 kB/s eta 0:00:01\n",
      "   ---------------------------------------  13.1/13.3 MB 597.9 kB/s eta 0:00:01\n",
      "   ---------------------------------------- 13.3/13.3 MB 597.3 kB/s eta 0:00:00\n",
      "Downloading cmdstanpy-1.2.4-py3-none-any.whl (94 kB)\n",
      "Downloading holidays-0.62-py3-none-any.whl (1.2 MB)\n",
      "   ---------------------------------------- 0.0/1.2 MB ? eta -:--:--\n",
      "   ---------------------------------------- 0.0/1.2 MB ? eta -:--:--\n",
      "   ---------------------------------------- 0.0/1.2 MB ? eta -:--:--\n",
      "   -------- ------------------------------- 0.3/1.2 MB ? eta -:--:--\n",
      "   -------- ------------------------------- 0.3/1.2 MB ? eta -:--:--\n",
      "   -------- ------------------------------- 0.3/1.2 MB ? eta -:--:--\n",
      "   ----------------- ---------------------- 0.5/1.2 MB 541.6 kB/s eta 0:00:02\n",
      "   -------------------------- ------------- 0.8/1.2 MB 610.3 kB/s eta 0:00:01\n",
      "   -------------------------- ------------- 0.8/1.2 MB 610.3 kB/s eta 0:00:01\n",
      "   -------------------------- ------------- 0.8/1.2 MB 610.3 kB/s eta 0:00:01\n",
      "   ---------------------------------------- 1.2/1.2 MB 602.9 kB/s eta 0:00:00\n",
      "Downloading importlib_resources-6.4.5-py3-none-any.whl (36 kB)\n",
      "Downloading stanio-0.5.1-py3-none-any.whl (8.1 kB)\n",
      "Installing collected packages: stanio, importlib-resources, holidays, cmdstanpy, prophet\n",
      "Successfully installed cmdstanpy-1.2.4 holidays-0.62 importlib-resources-6.4.5 prophet-1.1.6 stanio-0.5.1\n",
      "Note: you may need to restart the kernel to use updated packages.\n"
     ]
    }
   ],
   "source": [
    "pip install prophet"
   ]
  },
  {
   "cell_type": "code",
   "execution_count": 187,
   "metadata": {},
   "outputs": [],
   "source": [
    "from prophet import Prophet"
   ]
  },
  {
   "cell_type": "code",
   "execution_count": 189,
   "metadata": {},
   "outputs": [
    {
     "data": {
      "text/html": [
       "<div>\n",
       "<style scoped>\n",
       "    .dataframe tbody tr th:only-of-type {\n",
       "        vertical-align: middle;\n",
       "    }\n",
       "\n",
       "    .dataframe tbody tr th {\n",
       "        vertical-align: top;\n",
       "    }\n",
       "\n",
       "    .dataframe thead th {\n",
       "        text-align: right;\n",
       "    }\n",
       "</style>\n",
       "<table border=\"1\" class=\"dataframe\">\n",
       "  <thead>\n",
       "    <tr style=\"text-align: right;\">\n",
       "      <th></th>\n",
       "      <th>ds</th>\n",
       "      <th>y</th>\n",
       "    </tr>\n",
       "  </thead>\n",
       "  <tbody>\n",
       "    <tr>\n",
       "      <th>0</th>\n",
       "      <td>2015-01-01</td>\n",
       "      <td>11.0</td>\n",
       "    </tr>\n",
       "    <tr>\n",
       "      <th>1</th>\n",
       "      <td>2015-01-02</td>\n",
       "      <td>8.0</td>\n",
       "    </tr>\n",
       "    <tr>\n",
       "      <th>2</th>\n",
       "      <td>2015-01-03</td>\n",
       "      <td>7.0</td>\n",
       "    </tr>\n",
       "    <tr>\n",
       "      <th>3</th>\n",
       "      <td>2015-01-04</td>\n",
       "      <td>9.0</td>\n",
       "    </tr>\n",
       "    <tr>\n",
       "      <th>4</th>\n",
       "      <td>2015-01-05</td>\n",
       "      <td>2.0</td>\n",
       "    </tr>\n",
       "  </tbody>\n",
       "</table>\n",
       "</div>"
      ],
      "text/plain": [
       "          ds     y\n",
       "0 2015-01-01  11.0\n",
       "1 2015-01-02   8.0\n",
       "2 2015-01-03   7.0\n",
       "3 2015-01-04   9.0\n",
       "4 2015-01-05   2.0"
      ]
     },
     "execution_count": 189,
     "metadata": {},
     "output_type": "execute_result"
    }
   ],
   "source": [
    "one_pizza_prophet = pd.DataFrame({'ds': one_pizza.index, 'y': one_pizza.values})\n",
    "\n",
    "one_pizza_prophet.head()"
   ]
  },
  {
   "cell_type": "code",
   "execution_count": 191,
   "metadata": {},
   "outputs": [],
   "source": [
    "# one_pizza_prophet.set_index('ds', inplace=True)\n",
    "\n",
    "# split train and test\n",
    "pr_train = one_pizza_prophet[:-7]\n",
    "pr_test = one_pizza_prophet[-7:]\n",
    "     "
   ]
  },
  {
   "cell_type": "code",
   "execution_count": 193,
   "metadata": {},
   "outputs": [
    {
     "name": "stderr",
     "output_type": "stream",
     "text": [
      "13:02:43 - cmdstanpy - INFO - Chain [1] start processing\n",
      "13:02:44 - cmdstanpy - INFO - Chain [1] done processing\n"
     ]
    },
    {
     "data": {
      "text/plain": [
       "<prophet.forecaster.Prophet at 0x1b9c1c66090>"
      ]
     },
     "execution_count": 193,
     "metadata": {},
     "output_type": "execute_result"
    }
   ],
   "source": [
    "# fit model prophet\n",
    "pr_model = Prophet()\n",
    "pr_model.fit(pr_train)"
   ]
  },
  {
   "cell_type": "code",
   "execution_count": 195,
   "metadata": {},
   "outputs": [],
   "source": [
    "# forcast for one week\n",
    "pr_future = pr_model.make_future_dataframe(periods=7, freq='D')\n",
    "pr_forecast = pr_model.predict(pr_future)"
   ]
  },
  {
   "cell_type": "code",
   "execution_count": 197,
   "metadata": {},
   "outputs": [],
   "source": [
    "# extract forecast values\n",
    "pr_forecast_values = pr_forecast['yhat'][-len(pr_test):].values"
   ]
  },
  {
   "cell_type": "code",
   "execution_count": 199,
   "metadata": {},
   "outputs": [
    {
     "name": "stdout",
     "output_type": "stream",
     "text": [
      "prophet MAE: 2.7041506900698473\n",
      "prophet MSE: 8.559382223271792\n",
      "prophet RMSE: 2.925642189891271\n"
     ]
    }
   ],
   "source": [
    "\n",
    "# Evaluate the model\n",
    "mae = mean_absolute_error(pr_test['y'], pr_forecast_values)\n",
    "mse = mean_squared_error(pr_test['y'], pr_forecast_values)\n",
    "rmse = np.sqrt(mse)\n",
    "\n",
    "print(f'prophet MAE: {mae}')\n",
    "print(f'prophet MSE: {mse}')\n",
    "print(f'prophet RMSE: {rmse}')"
   ]
  },
  {
   "cell_type": "code",
   "execution_count": 201,
   "metadata": {},
   "outputs": [
    {
     "data": {
      "text/html": [
       "<div>\n",
       "<style scoped>\n",
       "    .dataframe tbody tr th:only-of-type {\n",
       "        vertical-align: middle;\n",
       "    }\n",
       "\n",
       "    .dataframe tbody tr th {\n",
       "        vertical-align: top;\n",
       "    }\n",
       "\n",
       "    .dataframe thead th {\n",
       "        text-align: right;\n",
       "    }\n",
       "</style>\n",
       "<table border=\"1\" class=\"dataframe\">\n",
       "  <thead>\n",
       "    <tr style=\"text-align: right;\">\n",
       "      <th></th>\n",
       "      <th>Actual</th>\n",
       "      <th>Predicted</th>\n",
       "    </tr>\n",
       "    <tr>\n",
       "      <th>date</th>\n",
       "      <th></th>\n",
       "      <th></th>\n",
       "    </tr>\n",
       "  </thead>\n",
       "  <tbody>\n",
       "    <tr>\n",
       "      <th>2015-12-24</th>\n",
       "      <td>4.0</td>\n",
       "      <td>6.713469</td>\n",
       "    </tr>\n",
       "    <tr>\n",
       "      <th>2015-12-26</th>\n",
       "      <td>5.0</td>\n",
       "      <td>7.613496</td>\n",
       "    </tr>\n",
       "    <tr>\n",
       "      <th>2015-12-27</th>\n",
       "      <td>4.0</td>\n",
       "      <td>6.970675</td>\n",
       "    </tr>\n",
       "    <tr>\n",
       "      <th>2015-12-28</th>\n",
       "      <td>2.0</td>\n",
       "      <td>5.363001</td>\n",
       "    </tr>\n",
       "    <tr>\n",
       "      <th>2015-12-29</th>\n",
       "      <td>4.0</td>\n",
       "      <td>6.916402</td>\n",
       "    </tr>\n",
       "    <tr>\n",
       "      <th>2015-12-30</th>\n",
       "      <td>6.0</td>\n",
       "      <td>5.774931</td>\n",
       "    </tr>\n",
       "    <tr>\n",
       "      <th>2015-12-31</th>\n",
       "      <td>10.0</td>\n",
       "      <td>5.873058</td>\n",
       "    </tr>\n",
       "  </tbody>\n",
       "</table>\n",
       "</div>"
      ],
      "text/plain": [
       "            Actual  Predicted\n",
       "date                         \n",
       "2015-12-24     4.0   6.713469\n",
       "2015-12-26     5.0   7.613496\n",
       "2015-12-27     4.0   6.970675\n",
       "2015-12-28     2.0   5.363001\n",
       "2015-12-29     4.0   6.916402\n",
       "2015-12-30     6.0   5.774931\n",
       "2015-12-31    10.0   5.873058"
      ]
     },
     "execution_count": 201,
     "metadata": {},
     "output_type": "execute_result"
    }
   ],
   "source": [
    "\n",
    "concat_prophet = pd.concat([pr_test, pr_forecast[['yhat']].iloc[-len(pr_test):]], axis=1)\n",
    "concat_prophet.columns = ['date','Actual', 'Predicted']\n",
    "concat_prophet.set_index('date', inplace=True)\n",
    "concat_prophet\n",
    "     "
   ]
  },
  {
   "cell_type": "code",
   "execution_count": 203,
   "metadata": {},
   "outputs": [
    {
     "data": {
      "image/png": "[encoded data removed]",
      "text/plain": [
       "<Figure size 1200x600 with 1 Axes>"
      ]
     },
     "metadata": {},
     "output_type": "display_data"
    }
   ],
   "source": [
    "# visualize forecast\n",
    "concat_prophet.plot(figsize=(12, 6))\n",
    "plt.xlabel('Order Date')\n",
    "plt.ylabel('Quantity Sold')\n",
    "plt.title('Actual vs. Predicted Quantity Sold for \"The Barbecue Chicken Pizza\"')\n",
    "plt.show()"
   ]
  },
  {
   "cell_type": "code",
   "execution_count": 97,
   "metadata": {
    "id": "WXe7TLpr7gk9"
   },
   "outputs": [],
   "source": [
    "pizza_df = pizza_df[['order_date', 'pizza_name', 'quantity']]"
   ]
  },
  {
   "cell_type": "code",
   "execution_count": 11,
   "metadata": {
    "id": "y_D47Mj_18ll"
   },
   "outputs": [],
   "source": [
    "# pizza_df['pizza_name'].unique()"
   ]
  },
  {
   "cell_type": "code",
   "execution_count": 15,
   "metadata": {
    "id": "qEhWcx8A8JkM"
   },
   "outputs": [],
   "source": [
    "sales_summary = pizza_df.groupby(['order_date', 'pizza_name']).sum().reset_index()"
   ]
  },
  {
   "cell_type": "code",
   "execution_count": 17,
   "metadata": {
    "colab": {
     "base_uri": "https://localhost:8080/",
     "height": 206
    },
    "id": "R0hRW0gT9EK0",
    "outputId": "4e5b7342-078f-4988-8fe6-4ea5a548cbae"
   },
   "outputs": [
    {
     "data": {
      "text/html": [
       "<div>\n",
       "<style scoped>\n",
       "    .dataframe tbody tr th:only-of-type {\n",
       "        vertical-align: middle;\n",
       "    }\n",
       "\n",
       "    .dataframe tbody tr th {\n",
       "        vertical-align: top;\n",
       "    }\n",
       "\n",
       "    .dataframe thead th {\n",
       "        text-align: right;\n",
       "    }\n",
       "</style>\n",
       "<table border=\"1\" class=\"dataframe\">\n",
       "  <thead>\n",
       "    <tr style=\"text-align: right;\">\n",
       "      <th></th>\n",
       "      <th>order_date</th>\n",
       "      <th>pizza_name</th>\n",
       "      <th>quantity</th>\n",
       "    </tr>\n",
       "  </thead>\n",
       "  <tbody>\n",
       "    <tr>\n",
       "      <th>0</th>\n",
       "      <td>2015-01-01</td>\n",
       "      <td>The Barbecue Chicken Pizza</td>\n",
       "      <td>11</td>\n",
       "    </tr>\n",
       "    <tr>\n",
       "      <th>1</th>\n",
       "      <td>2015-01-01</td>\n",
       "      <td>The Big Meat Pizza</td>\n",
       "      <td>5</td>\n",
       "    </tr>\n",
       "    <tr>\n",
       "      <th>2</th>\n",
       "      <td>2015-01-01</td>\n",
       "      <td>The Calabrese Pizza</td>\n",
       "      <td>1</td>\n",
       "    </tr>\n",
       "    <tr>\n",
       "      <th>3</th>\n",
       "      <td>2015-01-01</td>\n",
       "      <td>The California Chicken Pizza</td>\n",
       "      <td>4</td>\n",
       "    </tr>\n",
       "    <tr>\n",
       "      <th>4</th>\n",
       "      <td>2015-01-01</td>\n",
       "      <td>The Chicken Alfredo Pizza</td>\n",
       "      <td>2</td>\n",
       "    </tr>\n",
       "  </tbody>\n",
       "</table>\n",
       "</div>"
      ],
      "text/plain": [
       "  order_date                    pizza_name  quantity\n",
       "0 2015-01-01    The Barbecue Chicken Pizza        11\n",
       "1 2015-01-01            The Big Meat Pizza         5\n",
       "2 2015-01-01           The Calabrese Pizza         1\n",
       "3 2015-01-01  The California Chicken Pizza         4\n",
       "4 2015-01-01     The Chicken Alfredo Pizza         2"
      ]
     },
     "execution_count": 17,
     "metadata": {},
     "output_type": "execute_result"
    }
   ],
   "source": [
    "sales_summary.head()"
   ]
  },
  {
   "cell_type": "code",
   "execution_count": 21,
   "metadata": {
    "id": "8tT0gpCoO4Kt"
   },
   "outputs": [],
   "source": [
    "# reshape data for time series modeling\n",
    "sales_pivot = sales_summary.pivot(index='order_date', columns='pizza_name', values='quantity').fillna(0)"
   ]
  },
  {
   "cell_type": "code",
   "execution_count": 23,
   "metadata": {
    "id": "TvMZr67AO4IF"
   },
   "outputs": [],
   "source": [
    "arima_models = {}\n",
    "\n",
    "for pizza_name in sales_pivot.columns:\n",
    "  try:\n",
    "    model = ARIMA(sales_pivot[pizza_name], order=(1, 1, 0))\n",
    "    model_fit = model.fit()\n",
    "    arima_models[pizza_name] = model_fit\n",
    "  except:\n",
    "    print(f'ARIMA model for {pizza_name} failed to fit')"
   ]
  },
  {
   "cell_type": "code",
   "execution_count": 27,
   "metadata": {
    "id": "RDT5I4psQ00j"
   },
   "outputs": [],
   "source": [
    "# Generate predictions for one week\n",
    "prediction_days = 7\n",
    "predictions_arima = {}\n",
    "\n",
    "for pizza_name, model in arima_models.items():\n",
    "  predictions_arima[pizza_name] = model.predict(start=len(sales_pivot), end=len(sales_pivot) + prediction_days - 1)"
   ]
  },
  {
   "cell_type": "code",
   "execution_count": 29,
   "metadata": {
    "id": "__PDrp4gR0O8"
   },
   "outputs": [],
   "source": [
    "predictions_df = pd.DataFrame(predictions_arima)"
   ]
  },
  {
   "cell_type": "code",
   "execution_count": 31,
   "metadata": {
    "id": "9UZ-mTbpTwyH"
   },
   "outputs": [],
   "source": [
    "predictions_df.index = pd.date_range(start=sales_pivot.index[-1], periods=prediction_days, freq='D')"
   ]
  },
  {
   "cell_type": "code",
   "execution_count": 33,
   "metadata": {
    "id": "w54qIepLYG6r"
   },
   "outputs": [],
   "source": [
    "ingredients_df = ingred_df[['pizza_name', 'pizza_ingredients', 'Items_Qty_In_Grams']]"
   ]
  },
  {
   "cell_type": "code",
   "execution_count": 35,
   "metadata": {
    "id": "4zoDMZctZwn0"
   },
   "outputs": [],
   "source": [
    "# change column name to items_qty\n",
    "ingredients_df.rename(columns={'Items_Qty_In_Grams': 'items_qty'}, inplace=True)"
   ]
  },
  {
   "cell_type": "code",
   "execution_count": 37,
   "metadata": {
    "colab": {
     "base_uri": "https://localhost:8080/",
     "height": 509
    },
    "id": "Mbb1LIXNYY40",
    "outputId": "c0033ccd-ae42-40ee-8802-c4c1136e9b2e"
   },
   "outputs": [
    {
     "data": {
      "text/html": [
       "<div>\n",
       "<style scoped>\n",
       "    .dataframe tbody tr th:only-of-type {\n",
       "        vertical-align: middle;\n",
       "    }\n",
       "\n",
       "    .dataframe tbody tr th {\n",
       "        vertical-align: top;\n",
       "    }\n",
       "\n",
       "    .dataframe thead th {\n",
       "        text-align: right;\n",
       "    }\n",
       "</style>\n",
       "<table border=\"1\" class=\"dataframe\">\n",
       "  <thead>\n",
       "    <tr style=\"text-align: right;\">\n",
       "      <th></th>\n",
       "      <th>The Barbecue Chicken Pizza</th>\n",
       "      <th>The Big Meat Pizza</th>\n",
       "      <th>The Brie Carre Pizza</th>\n",
       "      <th>The Calabrese Pizza</th>\n",
       "      <th>The California Chicken Pizza</th>\n",
       "      <th>The Chicken Alfredo Pizza</th>\n",
       "      <th>The Chicken Pesto Pizza</th>\n",
       "      <th>The Classic Deluxe Pizza</th>\n",
       "      <th>The Five Cheese Pizza</th>\n",
       "      <th>The Four Cheese Pizza</th>\n",
       "      <th>...</th>\n",
       "      <th>The Prosciutto and Arugula Pizza</th>\n",
       "      <th>The Sicilian Pizza</th>\n",
       "      <th>The Soppressata Pizza</th>\n",
       "      <th>The Southwest Chicken Pizza</th>\n",
       "      <th>The Spicy Italian Pizza</th>\n",
       "      <th>The Spinach Pesto Pizza</th>\n",
       "      <th>The Spinach Supreme Pizza</th>\n",
       "      <th>The Spinach and Feta Pizza</th>\n",
       "      <th>The Thai Chicken Pizza</th>\n",
       "      <th>The Vegetables + Vegetables Pizza</th>\n",
       "    </tr>\n",
       "  </thead>\n",
       "  <tbody>\n",
       "    <tr>\n",
       "      <th>2015-12-31</th>\n",
       "      <td>7.949231</td>\n",
       "      <td>4.420315</td>\n",
       "      <td>0.868806</td>\n",
       "      <td>1.368239</td>\n",
       "      <td>7.0</td>\n",
       "      <td>2.515974</td>\n",
       "      <td>2.139860</td>\n",
       "      <td>6.884102</td>\n",
       "      <td>3.032327</td>\n",
       "      <td>6.974960</td>\n",
       "      <td>...</td>\n",
       "      <td>3.594000</td>\n",
       "      <td>2.583928</td>\n",
       "      <td>2.060907</td>\n",
       "      <td>5.917019</td>\n",
       "      <td>5.844288</td>\n",
       "      <td>3.542421</td>\n",
       "      <td>2.0</td>\n",
       "      <td>3.173030</td>\n",
       "      <td>3.0</td>\n",
       "      <td>7.773728</td>\n",
       "    </tr>\n",
       "    <tr>\n",
       "      <th>2016-01-01</th>\n",
       "      <td>9.000644</td>\n",
       "      <td>5.252117</td>\n",
       "      <td>1.508606</td>\n",
       "      <td>2.255787</td>\n",
       "      <td>7.0</td>\n",
       "      <td>3.250085</td>\n",
       "      <td>3.004890</td>\n",
       "      <td>8.502239</td>\n",
       "      <td>4.000261</td>\n",
       "      <td>8.000157</td>\n",
       "      <td>...</td>\n",
       "      <td>4.252945</td>\n",
       "      <td>3.751409</td>\n",
       "      <td>2.501855</td>\n",
       "      <td>5.496557</td>\n",
       "      <td>7.266934</td>\n",
       "      <td>4.250600</td>\n",
       "      <td>2.0</td>\n",
       "      <td>4.007485</td>\n",
       "      <td>3.0</td>\n",
       "      <td>8.764985</td>\n",
       "    </tr>\n",
       "    <tr>\n",
       "      <th>2016-01-02</th>\n",
       "      <td>8.461593</td>\n",
       "      <td>4.814122</td>\n",
       "      <td>1.146737</td>\n",
       "      <td>1.773032</td>\n",
       "      <td>7.0</td>\n",
       "      <td>2.886938</td>\n",
       "      <td>2.602621</td>\n",
       "      <td>7.661914</td>\n",
       "      <td>3.524117</td>\n",
       "      <td>7.481141</td>\n",
       "      <td>...</td>\n",
       "      <td>3.944120</td>\n",
       "      <td>3.187265</td>\n",
       "      <td>2.294809</td>\n",
       "      <td>5.689343</td>\n",
       "      <td>6.625582</td>\n",
       "      <td>3.906524</td>\n",
       "      <td>2.0</td>\n",
       "      <td>3.626354</td>\n",
       "      <td>3.0</td>\n",
       "      <td>8.323624</td>\n",
       "    </tr>\n",
       "    <tr>\n",
       "      <th>2016-01-03</th>\n",
       "      <td>8.737960</td>\n",
       "      <td>5.044753</td>\n",
       "      <td>1.351409</td>\n",
       "      <td>2.035612</td>\n",
       "      <td>7.0</td>\n",
       "      <td>3.066578</td>\n",
       "      <td>2.789690</td>\n",
       "      <td>8.098308</td>\n",
       "      <td>3.758341</td>\n",
       "      <td>7.743898</td>\n",
       "      <td>...</td>\n",
       "      <td>4.088856</td>\n",
       "      <td>3.459867</td>\n",
       "      <td>2.392027</td>\n",
       "      <td>5.600949</td>\n",
       "      <td>6.914714</td>\n",
       "      <td>4.073697</td>\n",
       "      <td>2.0</td>\n",
       "      <td>3.800433</td>\n",
       "      <td>3.0</td>\n",
       "      <td>8.520142</td>\n",
       "    </tr>\n",
       "    <tr>\n",
       "      <th>2016-01-04</th>\n",
       "      <td>8.596269</td>\n",
       "      <td>4.923311</td>\n",
       "      <td>1.235647</td>\n",
       "      <td>1.892789</td>\n",
       "      <td>7.0</td>\n",
       "      <td>2.977715</td>\n",
       "      <td>2.702696</td>\n",
       "      <td>7.871682</td>\n",
       "      <td>3.643122</td>\n",
       "      <td>7.610875</td>\n",
       "      <td>...</td>\n",
       "      <td>4.021023</td>\n",
       "      <td>3.328142</td>\n",
       "      <td>2.346379</td>\n",
       "      <td>5.641478</td>\n",
       "      <td>6.784369</td>\n",
       "      <td>3.992474</td>\n",
       "      <td>2.0</td>\n",
       "      <td>3.720923</td>\n",
       "      <td>3.0</td>\n",
       "      <td>8.432641</td>\n",
       "    </tr>\n",
       "    <tr>\n",
       "      <th>2016-01-05</th>\n",
       "      <td>8.668913</td>\n",
       "      <td>4.987258</td>\n",
       "      <td>1.301122</td>\n",
       "      <td>1.970474</td>\n",
       "      <td>7.0</td>\n",
       "      <td>3.021673</td>\n",
       "      <td>2.743152</td>\n",
       "      <td>7.989373</td>\n",
       "      <td>3.699800</td>\n",
       "      <td>7.678219</td>\n",
       "      <td>...</td>\n",
       "      <td>4.052814</td>\n",
       "      <td>3.391794</td>\n",
       "      <td>2.367813</td>\n",
       "      <td>5.622895</td>\n",
       "      <td>6.843130</td>\n",
       "      <td>4.031937</td>\n",
       "      <td>2.0</td>\n",
       "      <td>3.757239</td>\n",
       "      <td>3.0</td>\n",
       "      <td>8.471601</td>\n",
       "    </tr>\n",
       "    <tr>\n",
       "      <th>2016-01-06</th>\n",
       "      <td>8.631669</td>\n",
       "      <td>4.953586</td>\n",
       "      <td>1.264089</td>\n",
       "      <td>1.928220</td>\n",
       "      <td>7.0</td>\n",
       "      <td>2.999928</td>\n",
       "      <td>2.724338</td>\n",
       "      <td>7.928254</td>\n",
       "      <td>3.671919</td>\n",
       "      <td>7.644125</td>\n",
       "      <td>...</td>\n",
       "      <td>4.037915</td>\n",
       "      <td>3.361036</td>\n",
       "      <td>2.357748</td>\n",
       "      <td>5.631416</td>\n",
       "      <td>6.816640</td>\n",
       "      <td>4.012764</td>\n",
       "      <td>2.0</td>\n",
       "      <td>3.740652</td>\n",
       "      <td>3.0</td>\n",
       "      <td>8.454254</td>\n",
       "    </tr>\n",
       "  </tbody>\n",
       "</table>\n",
       "<p>7 rows × 32 columns</p>\n",
       "</div>"
      ],
      "text/plain": [
       "            The Barbecue Chicken Pizza  The Big Meat Pizza  \\\n",
       "2015-12-31                    7.949231            4.420315   \n",
       "2016-01-01                    9.000644            5.252117   \n",
       "2016-01-02                    8.461593            4.814122   \n",
       "2016-01-03                    8.737960            5.044753   \n",
       "2016-01-04                    8.596269            4.923311   \n",
       "2016-01-05                    8.668913            4.987258   \n",
       "2016-01-06                    8.631669            4.953586   \n",
       "\n",
       "            The Brie Carre Pizza  The Calabrese Pizza  \\\n",
       "2015-12-31              0.868806             1.368239   \n",
       "2016-01-01              1.508606             2.255787   \n",
       "2016-01-02              1.146737             1.773032   \n",
       "2016-01-03              1.351409             2.035612   \n",
       "2016-01-04              1.235647             1.892789   \n",
       "2016-01-05              1.301122             1.970474   \n",
       "2016-01-06              1.264089             1.928220   \n",
       "\n",
       "            The California Chicken Pizza  The Chicken Alfredo Pizza  \\\n",
       "2015-12-31                           7.0                   2.515974   \n",
       "2016-01-01                           7.0                   3.250085   \n",
       "2016-01-02                           7.0                   2.886938   \n",
       "2016-01-03                           7.0                   3.066578   \n",
       "2016-01-04                           7.0                   2.977715   \n",
       "2016-01-05                           7.0                   3.021673   \n",
       "2016-01-06                           7.0                   2.999928   \n",
       "\n",
       "            The Chicken Pesto Pizza  The Classic Deluxe Pizza  \\\n",
       "2015-12-31                 2.139860                  6.884102   \n",
       "2016-01-01                 3.004890                  8.502239   \n",
       "2016-01-02                 2.602621                  7.661914   \n",
       "2016-01-03                 2.789690                  8.098308   \n",
       "2016-01-04                 2.702696                  7.871682   \n",
       "2016-01-05                 2.743152                  7.989373   \n",
       "2016-01-06                 2.724338                  7.928254   \n",
       "\n",
       "            The Five Cheese Pizza  The Four Cheese Pizza  ...  \\\n",
       "2015-12-31               3.032327               6.974960  ...   \n",
       "2016-01-01               4.000261               8.000157  ...   \n",
       "2016-01-02               3.524117               7.481141  ...   \n",
       "2016-01-03               3.758341               7.743898  ...   \n",
       "2016-01-04               3.643122               7.610875  ...   \n",
       "2016-01-05               3.699800               7.678219  ...   \n",
       "2016-01-06               3.671919               7.644125  ...   \n",
       "\n",
       "            The Prosciutto and Arugula Pizza  The Sicilian Pizza  \\\n",
       "2015-12-31                          3.594000            2.583928   \n",
       "2016-01-01                          4.252945            3.751409   \n",
       "2016-01-02                          3.944120            3.187265   \n",
       "2016-01-03                          4.088856            3.459867   \n",
       "2016-01-04                          4.021023            3.328142   \n",
       "2016-01-05                          4.052814            3.391794   \n",
       "2016-01-06                          4.037915            3.361036   \n",
       "\n",
       "            The Soppressata Pizza  The Southwest Chicken Pizza  \\\n",
       "2015-12-31               2.060907                     5.917019   \n",
       "2016-01-01               2.501855                     5.496557   \n",
       "2016-01-02               2.294809                     5.689343   \n",
       "2016-01-03               2.392027                     5.600949   \n",
       "2016-01-04               2.346379                     5.641478   \n",
       "2016-01-05               2.367813                     5.622895   \n",
       "2016-01-06               2.357748                     5.631416   \n",
       "\n",
       "            The Spicy Italian Pizza  The Spinach Pesto Pizza  \\\n",
       "2015-12-31                 5.844288                 3.542421   \n",
       "2016-01-01                 7.266934                 4.250600   \n",
       "2016-01-02                 6.625582                 3.906524   \n",
       "2016-01-03                 6.914714                 4.073697   \n",
       "2016-01-04                 6.784369                 3.992474   \n",
       "2016-01-05                 6.843130                 4.031937   \n",
       "2016-01-06                 6.816640                 4.012764   \n",
       "\n",
       "            The Spinach Supreme Pizza  The Spinach and Feta Pizza  \\\n",
       "2015-12-31                        2.0                    3.173030   \n",
       "2016-01-01                        2.0                    4.007485   \n",
       "2016-01-02                        2.0                    3.626354   \n",
       "2016-01-03                        2.0                    3.800433   \n",
       "2016-01-04                        2.0                    3.720923   \n",
       "2016-01-05                        2.0                    3.757239   \n",
       "2016-01-06                        2.0                    3.740652   \n",
       "\n",
       "            The Thai Chicken Pizza  The Vegetables + Vegetables Pizza  \n",
       "2015-12-31                     3.0                           7.773728  \n",
       "2016-01-01                     3.0                           8.764985  \n",
       "2016-01-02                     3.0                           8.323624  \n",
       "2016-01-03                     3.0                           8.520142  \n",
       "2016-01-04                     3.0                           8.432641  \n",
       "2016-01-05                     3.0                           8.471601  \n",
       "2016-01-06                     3.0                           8.454254  \n",
       "\n",
       "[7 rows x 32 columns]"
      ]
     },
     "execution_count": 37,
     "metadata": {},
     "output_type": "execute_result"
    }
   ],
   "source": [
    "predictions_df"
   ]
  },
  {
   "cell_type": "code",
   "execution_count": 39,
   "metadata": {
    "colab": {
     "base_uri": "https://localhost:8080/",
     "height": 206
    },
    "id": "0R1KHokaO4Fe",
    "outputId": "e1a572ce-f4e3-4243-956e-10630396ced4"
   },
   "outputs": [
    {
     "data": {
      "text/html": [
       "<div>\n",
       "<style scoped>\n",
       "    .dataframe tbody tr th:only-of-type {\n",
       "        vertical-align: middle;\n",
       "    }\n",
       "\n",
       "    .dataframe tbody tr th {\n",
       "        vertical-align: top;\n",
       "    }\n",
       "\n",
       "    .dataframe thead th {\n",
       "        text-align: right;\n",
       "    }\n",
       "</style>\n",
       "<table border=\"1\" class=\"dataframe\">\n",
       "  <thead>\n",
       "    <tr style=\"text-align: right;\">\n",
       "      <th></th>\n",
       "      <th>pizza_name</th>\n",
       "      <th>pizza_ingredients</th>\n",
       "      <th>items_qty</th>\n",
       "    </tr>\n",
       "  </thead>\n",
       "  <tbody>\n",
       "    <tr>\n",
       "      <th>0</th>\n",
       "      <td>The Barbecue Chicken Pizza</td>\n",
       "      <td>Barbecued Chicken</td>\n",
       "      <td>40.0</td>\n",
       "    </tr>\n",
       "    <tr>\n",
       "      <th>1</th>\n",
       "      <td>The Barbecue Chicken Pizza</td>\n",
       "      <td>Red Peppers</td>\n",
       "      <td>15.0</td>\n",
       "    </tr>\n",
       "    <tr>\n",
       "      <th>2</th>\n",
       "      <td>The Barbecue Chicken Pizza</td>\n",
       "      <td>Green Peppers</td>\n",
       "      <td>20.0</td>\n",
       "    </tr>\n",
       "    <tr>\n",
       "      <th>3</th>\n",
       "      <td>The Barbecue Chicken Pizza</td>\n",
       "      <td>Tomatoes</td>\n",
       "      <td>30.0</td>\n",
       "    </tr>\n",
       "    <tr>\n",
       "      <th>4</th>\n",
       "      <td>The Barbecue Chicken Pizza</td>\n",
       "      <td>Red Onions</td>\n",
       "      <td>60.0</td>\n",
       "    </tr>\n",
       "  </tbody>\n",
       "</table>\n",
       "</div>"
      ],
      "text/plain": [
       "                   pizza_name  pizza_ingredients  items_qty\n",
       "0  The Barbecue Chicken Pizza  Barbecued Chicken       40.0\n",
       "1  The Barbecue Chicken Pizza        Red Peppers       15.0\n",
       "2  The Barbecue Chicken Pizza      Green Peppers       20.0\n",
       "3  The Barbecue Chicken Pizza           Tomatoes       30.0\n",
       "4  The Barbecue Chicken Pizza         Red Onions       60.0"
      ]
     },
     "execution_count": 39,
     "metadata": {},
     "output_type": "execute_result"
    }
   ],
   "source": [
    "ingredients_df.head()"
   ]
  },
  {
   "cell_type": "code",
   "execution_count": 41,
   "metadata": {
    "id": "NbfOe-Uyh0Ob"
   },
   "outputs": [],
   "source": [
    "\n",
    "# Create a dictionary to store the ingredient quantities\n",
    "ingredient_quantities = {}\n",
    "\n",
    "# Iterate through each pizza in the predictions\n",
    "for pizza_name in predictions_df.columns:\n",
    "  # Get the predicted quantity for the pizza\n",
    "  predicted_quantity = predictions_df[pizza_name].sum()\n",
    "\n",
    "  # Get the ingredients for the pizza\n",
    "  pizza_ingredients = ingredients_df[ingredients_df['pizza_name'] == pizza_name]\n",
    "\n",
    "  # Iterate through each ingredient for the pizza\n",
    "  for index, row in pizza_ingredients.iterrows():\n",
    "    ingredient = row['pizza_ingredients']\n",
    "    ingredient_qty = row['items_qty']\n",
    "\n",
    "    # Calculate the required quantity of the ingredient\n",
    "    required_quantity = predicted_quantity * ingredient_qty\n",
    "\n",
    "    # Add the required quantity to the dictionary\n",
    "    if ingredient not in ingredient_quantities:\n",
    "      ingredient_quantities[ingredient] = 0\n",
    "    ingredient_quantities[ingredient] += required_quantity\n",
    "\n",
    "\n"
   ]
  },
  {
   "cell_type": "code",
   "execution_count": 45,
   "metadata": {
    "colab": {
     "base_uri": "https://localhost:8080/"
    },
    "id": "YPEGTDLDiu_T",
    "outputId": "f31ab99a-4ce2-4c8e-a3bc-fba22e1031a6"
   },
   "outputs": [],
   "source": [
    "# Create a DataFrame from the ingredient quantities\n",
    "ingredient_requirements_df = pd.DataFrame.from_dict(ingredient_quantities, orient='index', columns=['required_quantity'])\n",
    "\n"
   ]
  },
  {
   "cell_type": "code",
   "execution_count": 47,
   "metadata": {
    "colab": {
     "base_uri": "https://localhost:8080/",
     "height": 424
    },
    "id": "rWOj8XeBjEVS",
    "outputId": "cc93257d-09c6-4e89-d1b8-3f1552839c01"
   },
   "outputs": [
    {
     "data": {
      "text/html": [
       "<div>\n",
       "<style scoped>\n",
       "    .dataframe tbody tr th:only-of-type {\n",
       "        vertical-align: middle;\n",
       "    }\n",
       "\n",
       "    .dataframe tbody tr th {\n",
       "        vertical-align: top;\n",
       "    }\n",
       "\n",
       "    .dataframe thead th {\n",
       "        text-align: right;\n",
       "    }\n",
       "</style>\n",
       "<table border=\"1\" class=\"dataframe\">\n",
       "  <thead>\n",
       "    <tr style=\"text-align: right;\">\n",
       "      <th></th>\n",
       "      <th>required_quantity</th>\n",
       "    </tr>\n",
       "  </thead>\n",
       "  <tbody>\n",
       "    <tr>\n",
       "      <th>Barbecued Chicken</th>\n",
       "      <td>5404.165209</td>\n",
       "    </tr>\n",
       "    <tr>\n",
       "      <th>Red Peppers</th>\n",
       "      <td>11341.551997</td>\n",
       "    </tr>\n",
       "    <tr>\n",
       "      <th>Green Peppers</th>\n",
       "      <td>8030.393877</td>\n",
       "    </tr>\n",
       "    <tr>\n",
       "      <th>Tomatoes</th>\n",
       "      <td>34984.718328</td>\n",
       "    </tr>\n",
       "    <tr>\n",
       "      <th>Red Onions</th>\n",
       "      <td>54797.556516</td>\n",
       "    </tr>\n",
       "    <tr>\n",
       "      <th>...</th>\n",
       "      <td>...</td>\n",
       "    </tr>\n",
       "    <tr>\n",
       "      <th>Luganega Sausage</th>\n",
       "      <td>2767.612911</td>\n",
       "    </tr>\n",
       "    <tr>\n",
       "      <th>Onions</th>\n",
       "      <td>1383.806456</td>\n",
       "    </tr>\n",
       "    <tr>\n",
       "      <th>Soppressata Salami</th>\n",
       "      <td>4896.461502</td>\n",
       "    </tr>\n",
       "    <tr>\n",
       "      <th>Peperoncini verdi</th>\n",
       "      <td>1412.869704</td>\n",
       "    </tr>\n",
       "    <tr>\n",
       "      <th>Thai Sweet Chilli Sauce</th>\n",
       "      <td>1260.000000</td>\n",
       "    </tr>\n",
       "  </tbody>\n",
       "</table>\n",
       "<p>64 rows × 1 columns</p>\n",
       "</div>"
      ],
      "text/plain": [
       "                         required_quantity\n",
       "Barbecued Chicken              5404.165209\n",
       "Red Peppers                   11341.551997\n",
       "Green Peppers                  8030.393877\n",
       "Tomatoes                      34984.718328\n",
       "Red Onions                    54797.556516\n",
       "...                                    ...\n",
       "Luganega Sausage               2767.612911\n",
       "Onions                         1383.806456\n",
       "Soppressata Salami             4896.461502\n",
       "Peperoncini verdi              1412.869704\n",
       "Thai Sweet Chilli Sauce        1260.000000\n",
       "\n",
       "[64 rows x 1 columns]"
      ]
     },
     "execution_count": 47,
     "metadata": {},
     "output_type": "execute_result"
    }
   ],
   "source": [
    "# Print the ingredient requirements\n",
    "ingredient_requirements_df"
   ]
  },
  {
   "cell_type": "code",
   "execution_count": 49,
   "metadata": {
    "colab": {
     "base_uri": "https://localhost:8080/"
    },
    "id": "a-R8ZQ0mjd41",
    "outputId": "dbffdffa-24d4-42b0-f0a3-3813b36c82e2"
   },
   "outputs": [
    {
     "name": "stdout",
     "output_type": "stream",
     "text": [
      "Purchase Order:\n",
      "----------------\n",
      "                                quantity   unit\n",
      "Barbecued Chicken            5404.165209  grams\n",
      "Red Peppers                 11341.551997  grams\n",
      "Green Peppers                8030.393877  grams\n",
      "Tomatoes                    34984.718328  grams\n",
      "Red Onions                  54797.556516  grams\n",
      "Barbecue Sauce               1801.388403  grams\n",
      "Bacon                       19992.004765  grams\n",
      "Pepperoni                   24192.916451  grams\n",
      "Italian Sausage               343.954622  grams\n",
      "Chorizo Sausage              1719.773108  grams\n",
      "Brie Carre Cheese             260.292443  grams\n",
      "Prosciutto                    260.292443  grams\n",
      "Caramelized Onions                   NaN  grams\n",
      "Pears                          86.764148  grams\n",
      "Thyme                          43.382074  grams\n",
      "Garlic                      17939.075387  grams\n",
      "?duja Salami                 1586.898277  grams\n",
      "Pancetta                     2380.347416  grams\n",
      "Friggitello Peppers           396.724569  grams\n",
      "Chicken                     44707.738874  grams\n",
      "Artichokes                   8194.256190  grams\n",
      "Spinach                     21045.422035  grams\n",
      "Jalapeno Peppers             3770.816448  grams\n",
      "Fontina Cheese               3919.292300  grams\n",
      "Gouda Cheese                 2940.000000  grams\n",
      "Mushrooms                   26131.595790  grams\n",
      "Asiago Cheese                4170.001716  grams\n",
      "Alfredo Sauce                 932.350134  grams\n",
      "Pesto Sauce                  3897.174207  grams\n",
      "Mozzarella Cheese           10227.712832  grams\n",
      "Provolone Cheese              759.896594  grams\n",
      "Smoked Gouda Cheese           759.896594  grams\n",
      "Romano Cheese                 759.896594  grams\n",
      "Blue Cheese                   759.896594  grams\n",
      "Ricotta Cheese               3985.003098  grams\n",
      "Gorgonzola Piccante Cheese   3188.002478  grams\n",
      "Parmigiano Reggiano Cheese   7970.006195  grams\n",
      "Kalamata Olives              2242.598080  grams\n",
      "Feta Cheese                  7530.556887  grams\n",
      "Beef Chuck Roast             7980.000000  grams\n",
      "Green Olives                 3263.109239  grams\n",
      "Sliced Ham                           NaN  grams\n",
      "Pineapple                    4641.998310  grams\n",
      "Capocollo                   50316.976166  grams\n",
      "Goat Cheese                 11504.280161  grams\n",
      "Oregano                      1463.200336  grams\n",
      "Calabrese Salami            11121.934743  grams\n",
      "Eggplant                     2212.228828  grams\n",
      "Zucchini                     4630.572931  grams\n",
      "Sun-dried Tomatoes           1606.910549  grams\n",
      "Plum Tomatoes                3090.392322  grams\n",
      "Cilantro                     2300.816448  grams\n",
      "Corn                        15338.776322  grams\n",
      "Chipotle Sauce               4601.632897  grams\n",
      "Anchovies                    2943.868853  grams\n",
      "Genoa Salami                 6260.604613  grams\n",
      "Prosciutto di San Daniele    1959.417100  grams\n",
      "Arugula                       839.750186  grams\n",
      "Coarse Sicilian Salami       5535.225823  grams\n",
      "Luganega Sausage             2767.612911  grams\n",
      "Onions                       1383.806456  grams\n",
      "Soppressata Salami           4896.461502  grams\n",
      "Peperoncini verdi            1412.869704  grams\n",
      "Thai Sweet Chilli Sauce      1260.000000  grams\n"
     ]
    }
   ],
   "source": [
    "\n",
    "\n",
    "# Create a purchase order DataFrame\n",
    "purchase_order_df = ingredient_requirements_df.copy()\n",
    "\n",
    "# Add a column for the unit of measure (assuming all ingredients are in grams)\n",
    "purchase_order_df['unit'] = 'grams'\n",
    "\n",
    "# Rename the columns for better readability\n",
    "purchase_order_df = purchase_order_df.rename(columns={'required_quantity': 'quantity'})\n",
    "\n",
    "# Add a header to the purchase order\n",
    "print('Purchase Order:')\n",
    "print('----------------')\n",
    "\n",
    "# Print the purchase order table\n",
    "print(purchase_order_df.to_string())\n"
   ]
  }
 ],
 "metadata": {
  "colab": {
   "provenance": []
  },
  "kernelspec": {
   "display_name": "Python 3 (ipykernel)",
   "language": "python",
   "name": "python3"
  },
  "language_info": {
   "codemirror_mode": {
    "name": "ipython",
    "version": 3
   },
   "file_extension": ".py",
   "mimetype": "text/x-python",
   "name": "python",
   "nbconvert_exporter": "python",
   "pygments_lexer": "ipython3",
   "version": "3.12.4"
  }
 },
 "nbformat": 4,
 "nbformat_minor": 4
}
